{
 "cells": [
  {
   "cell_type": "code",
   "execution_count": 8,
   "id": "01c40234-5e03-4c8a-bf4d-937cc667f322",
   "metadata": {},
   "outputs": [
    {
     "name": "stderr",
     "output_type": "stream",
     "text": [
      "WARNING:absl:You are saving your model as an HDF5 file via `model.save()` or `keras.saving.save_model(model)`. This file format is considered legacy. We recommend using instead the native Keras format, e.g. `model.save('my_model.keras')` or `keras.saving.save_model(model, 'my_model.keras')`. \n"
     ]
    },
    {
     "name": "stdout",
     "output_type": "stream",
     "text": [
      "Number of parameters: 6177\n",
      "Final training loss on single batch: 4.469976829568623e-06\n",
      "Final validation loss: 5.094172477722168\n"
     ]
    }
   ],
   "source": [
    "import numpy as np\n",
    "import tensorflow as tf\n",
    "from tensorflow.keras.models import Model\n",
    "from tensorflow.keras.layers import Input, Dense, ReLU, Add\n",
    "from tensorflow.keras.optimizers import Adam\n",
    "from sklearn.datasets import fetch_covtype\n",
    "from sklearn.model_selection import train_test_split\n",
    "from sklearn.preprocessing import StandardScaler\n",
    "\n",
    "# Load the Covertype dataset\n",
    "data = fetch_covtype()\n",
    "X = data.data\n",
    "y = (data.target == 2).astype(int)  # Binary classification: Class 2 vs. rest\n",
    "\n",
    "# Normalizing features\n",
    "scaler = StandardScaler()\n",
    "X_scaled = scaler.fit_transform(X)\n",
    "\n",
    "# Splitting into train/validation\n",
    "X_train, X_val, y_train, y_val = train_test_split(X_scaled, y, test_size=0.2, random_state=42)\n",
    "\n",
    "# Select one batch (128 samples) to overfit\n",
    "X_train_batch = X_train[:128]\n",
    "y_train_batch = y_train[:128]\n",
    "\n",
    "# Model Definition\n",
    "input_dim = X_train.shape[1]\n",
    "inputs = Input(shape=(input_dim,))\n",
    "\n",
    "# First Dense Layer\n",
    "x = Dense(32, activation='relu')(inputs)\n",
    "\n",
    "# Residual Block\n",
    "res = Dense(32, activation='relu')(x)\n",
    "res = Dense(32)(res)\n",
    "res = Add()([x, res])  # Residual connection\n",
    "res = ReLU()(res)\n",
    "\n",
    "# Additional Skip Connection (from input to deeper layer)\n",
    "skip = Dense(32)(inputs)\n",
    "\n",
    "# Combine residual output with skip connection\n",
    "combined = Add()([res, skip])\n",
    "combined = ReLU()(combined)\n",
    "\n",
    "# Final dense layers\n",
    "x = Dense(16, activation='relu')(combined)\n",
    "outputs = Dense(1, activation='sigmoid')(x)\n",
    "\n",
    "# Define model\n",
    "model = Model(inputs=inputs, outputs=outputs)\n",
    "\n",
    "# Compile model\n",
    "model.compile(optimizer=Adam(learning_rate=0.01), loss='binary_crossentropy', metrics=['accuracy'])\n",
    "\n",
    "# Training on Single Batch \n",
    "history = model.fit(X_train_batch, y_train_batch, epochs=500, verbose=0)\n",
    "\n",
    "# Validation Check \n",
    "val_loss, val_acc = model.evaluate(X_val, y_val, verbose=0)\n",
    "train_loss, train_acc = model.evaluate(X_train_batch, y_train_batch, verbose=0)\n",
    "\n",
    "# Save Model for Netron\n",
    "model.save(\"/Users/melitamadhurza/Desktop/AIT_Deep_Learning/Notebooks/residual_mlp_model.h5\")\n",
    "\n",
    "# Print Required Info\n",
    "print(\"Number of parameters:\", model.count_params())\n",
    "print(\"Final training loss on single batch:\", train_loss)\n",
    "print(\"Final validation loss:\", val_loss)"
   ]
  },
  {
   "cell_type": "code",
   "execution_count": null,
   "id": "a9be9f11-b8f6-4f08-8f75-992da32d4761",
   "metadata": {},
   "outputs": [],
   "source": []
  }
 ],
 "metadata": {
  "kernelspec": {
   "display_name": "Python 3 (ipykernel)",
   "language": "python",
   "name": "python3"
  },
  "language_info": {
   "codemirror_mode": {
    "name": "ipython",
    "version": 3
   },
   "file_extension": ".py",
   "mimetype": "text/x-python",
   "name": "python",
   "nbconvert_exporter": "python",
   "pygments_lexer": "ipython3",
   "version": "3.11.7"
  }
 },
 "nbformat": 4,
 "nbformat_minor": 5
}
